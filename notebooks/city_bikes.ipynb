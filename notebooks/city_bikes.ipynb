{
 "cells": [
  {
   "cell_type": "markdown",
   "metadata": {},
   "source": [
    "# CityBikes"
   ]
  },
  {
   "cell_type": "markdown",
   "metadata": {},
   "source": [
    "Send a request to CityBikes for the city of your choice. "
   ]
  },
  {
   "cell_type": "code",
   "execution_count": 1,
   "metadata": {},
   "outputs": [],
   "source": [
    "import requests\n",
    "import json\n",
    "\n",
    "try:\n",
    "    response = requests.get(\"https://api.citybik.es/v2/networks/sobi-hamilton\" )\n",
    "    response.raise_for_status()  # Raise an exception for 4xx and 5xx status codes\n",
    "    data = response.json()\n",
    "except requests.exceptions.RequestException as e:\n",
    "    print(\"Error occurred:\", e)\n",
    "    exit()"
   ]
  },
  {
   "cell_type": "markdown",
   "metadata": {},
   "source": [
    "Parse through the response to get the details you want for the bike stations in that city (latitude, longitude, number of bikes). "
   ]
  },
  {
   "cell_type": "code",
   "execution_count": 2,
   "metadata": {},
   "outputs": [],
   "source": [
    "from collections import defaultdict\n",
    "\n",
    "station_list = data['network']['stations']\n",
    "\n",
    "station_dict = defaultdict(list)\n",
    "for station in station_list:\n",
    "    name = station['name']\n",
    "    latitude = station['latitude']\n",
    "    longitude = station['longitude']\n",
    "    num_of_bikes = station['free_bikes']\n",
    "    station_dict['name'].append(name)\n",
    "    station_dict['latitude'].append(str(latitude))\n",
    "    station_dict['longitude'].append(str(longitude))\n",
    "    station_dict['num_of_bikes'].append(num_of_bikes)\n",
    "\n",
    "    "
   ]
  },
  {
   "cell_type": "markdown",
   "metadata": {},
   "source": [
    "Put your parsed results into a DataFrame."
   ]
  },
  {
   "cell_type": "code",
   "execution_count": 4,
   "metadata": {},
   "outputs": [
    {
     "name": "stdout",
     "output_type": "stream",
     "text": [
      "                           name            latitude           longitude  \\\n",
      "0                  Hess at king  43.259125842121065  -79.87721174955368   \n",
      "1                 Bayfront Park  43.269288276229105  -79.87132698297499   \n",
      "2               Bay at Strachan   43.26785864558976   -79.8679232597351   \n",
      "3               Bay at Mulberry  43.263198441574474  -79.87180307507515   \n",
      "4                     City Hall    43.2561324863605   -79.8744987564414   \n",
      "..                          ...                 ...                 ...   \n",
      "140            Main at Longwood   43.25960441109783  -79.90210264921188   \n",
      "141          Van Wagner's Beach   43.26000777328068   -79.7663875669241   \n",
      "142       King William at James   43.25763541749527  -79.86848652362822   \n",
      "143  Westdale Village - Paisley   43.26171202317612  -79.90590065717697   \n",
      "144             Westdale Aviary   43.26486897083389  -79.90748047828674   \n",
      "\n",
      "     num_of_bikes  \n",
      "0               5  \n",
      "1               6  \n",
      "2               1  \n",
      "3               6  \n",
      "4               2  \n",
      "..            ...  \n",
      "140             5  \n",
      "141             6  \n",
      "142             0  \n",
      "143             6  \n",
      "144             3  \n",
      "\n",
      "[145 rows x 4 columns]\n"
     ]
    }
   ],
   "source": [
    "import pandas as pd\n",
    "bike_df = pd.DataFrame.from_dict(station_dict)\n",
    "print(bike_df)"
   ]
  },
  {
   "cell_type": "code",
   "execution_count": 5,
   "metadata": {},
   "outputs": [],
   "source": [
    "# Serialize to CSV\n",
    "bike_df.to_csv('bike_data.csv', index=False)"
   ]
  }
 ],
 "metadata": {
  "kernelspec": {
   "display_name": "Python 3",
   "language": "python",
   "name": "python3"
  },
  "language_info": {
   "codemirror_mode": {
    "name": "ipython",
    "version": 3
   },
   "file_extension": ".py",
   "mimetype": "text/x-python",
   "name": "python",
   "nbconvert_exporter": "python",
   "pygments_lexer": "ipython3",
   "version": "3.9.17"
  }
 },
 "nbformat": 4,
 "nbformat_minor": 4
}
